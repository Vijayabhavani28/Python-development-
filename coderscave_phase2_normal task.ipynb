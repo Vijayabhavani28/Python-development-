{
 "cells": [
  {
   "cell_type": "code",
   "execution_count": 3,
   "id": "3d0da470",
   "metadata": {},
   "outputs": [
    {
     "name": "stdout",
     "output_type": "stream",
     "text": [
      "Type the following sentence:\n",
      "The quick brown fox jumps over the lazy dog.\n",
      "Press Enter when you're ready to start...\n",
      "Start typing: The quick brown fox jumps over the lazy dog\n",
      "\n",
      "Time taken: 20.40 seconds\n",
      "Words typed: 9\n",
      "Typing speed: 26.46 WPM\n"
     ]
    }
   ],
   "source": [
    "import time\n",
    "\n",
    "def typing_speed_test():\n",
    "    sentence = \"Coders cave provide the internship on python development.\"\n",
    "    print(\"Type the following sentence:\")\n",
    "    print(sentence)\n",
    "    \n",
    "    input(\"Press Enter when you're ready to start...\")\n",
    "    \n",
    "    start_time = time.time()\n",
    "    user_input = input(\"Start typing: \")\n",
    "    end_time = time.time()\n",
    "    \n",
    "    elapsed_time = end_time - start_time\n",
    "    words_typed = len(user_input.split())\n",
    "    \n",
    "    typing_speed = (words_typed / elapsed_time) * 60\n",
    "    \n",
    "    print(\"\\nTime taken: {:.2f} seconds\".format(elapsed_time))\n",
    "    print(\"Words typed: {}\".format(words_typed))\n",
    "    print(\"Typing speed: {:.2f} WPM\".format(typing_speed))\n",
    "\n",
    "typing_speed_test()\n"
   ]
  },
  {
   "cell_type": "code",
   "execution_count": null,
   "id": "b389b385",
   "metadata": {},
   "outputs": [],
   "source": []
  }
 ],
 "metadata": {
  "kernelspec": {
   "display_name": "Python 3 (ipykernel)",
   "language": "python",
   "name": "python3"
  },
  "language_info": {
   "codemirror_mode": {
    "name": "ipython",
    "version": 3
   },
   "file_extension": ".py",
   "mimetype": "text/x-python",
   "name": "python",
   "nbconvert_exporter": "python",
   "pygments_lexer": "ipython3",
   "version": "3.9.12"
  }
 },
 "nbformat": 4,
 "nbformat_minor": 5
}
