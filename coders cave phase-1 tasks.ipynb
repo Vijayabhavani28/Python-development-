{
 "cells": [
  {
   "cell_type": "code",
   "execution_count": 2,
   "id": "e32f1f2c",
   "metadata": {},
   "outputs": [
    {
     "name": "stdout",
     "output_type": "stream",
     "text": [
      "Enter first number:8\n",
      "Enter operator(+,-,*,/,^):*\n",
      "Enter second number:6\n",
      "8.0 * 6.0\n",
      "= 48\n",
      "continue?(yes/no):yes\n",
      "Enter first number:8\n",
      "Enter operator(+,-,*,/,^):^\n",
      "Enter second number:2\n",
      "8.0 ^ 2.0\n",
      "= 64\n",
      "continue?(yes/no):no\n"
     ]
    }
   ],
   "source": [
    "#normal task \n",
    "#calculator\n",
    "def calculator(a,b,operator):\n",
    "    if operator=='+':\n",
    "        result=a+b\n",
    "    elif operator=='-':\n",
    "        result=a-b\n",
    "    elif operator=='*':\n",
    "        result=a*b\n",
    "    elif operator=='/':\n",
    "        result=a/b\n",
    "    elif operator=='^':\n",
    "        result=a**b\n",
    "    else:\n",
    "        raise ValueError('Invalid Operator')\n",
    "        \n",
    "    if result.is_integer():\n",
    "        result=int(result)\n",
    "    return result\n",
    "continue_calculating=True\n",
    "while continue_calculating is True:\n",
    "    a=float(input('Enter first number:'))\n",
    "    operator=input('Enter operator(+,-,*,/,^):')\n",
    "    b=float(input('Enter second number:'))\n",
    "    print(a,operator,b)\n",
    "    result=calculator(a,b,operator)\n",
    "    print('=',result)\n",
    "    yes_or_no=input('continue?(yes/no):')\n",
    "    if yes_or_no=='no':\n",
    "        continue_calculating=False"
   ]
  },
  {
   "cell_type": "code",
   "execution_count": 1,
   "id": "a2740c74",
   "metadata": {},
   "outputs": [
    {
     "name": "stdout",
     "output_type": "stream",
     "text": [
      "welcome to password generator\n",
      "how many letters you want in your password?\n",
      "5\n",
      "how many numbers you want in your password?\n",
      "3\n",
      "how many symbols you want in your password?\n",
      "4\n",
      "C0$C0*C0)C0#\n"
     ]
    }
   ],
   "source": [
    "#golden task\n",
    "#random password generator\n",
    "import random\n",
    "letters=['a','b','c','d','e','f','g','h','i','j','k','l','m','n','o','p','q','r','s','t','u','v','w','x','y','z','A','B','C','D','E','F','G','H','I','J','K','L','M','N','O','P','Q','R','S','T','U','V','W','X','Y','Z']\n",
    "numbers=['0','1','2','3','4','5','6','7','8','9']\n",
    "symbols=['!','@','#','$','%','^','&','*','(',')','+']\n",
    "print(\"welcome to password generator\")\n",
    "n_letters=int(input(\"how many letters you want in your password?\\n\"))\n",
    "n_numbers=int(input(\"how many numbers you want in your password?\\n\"))\n",
    "n_symbols=int(input(\"how many symbols you want in your password?\\n\"))\n",
    "password=\"\"\n",
    "for i in range(1,n_letters+1):\n",
    "    char=random.choice(letters)\n",
    "#password+=char\n",
    "for i in range(1,n_numbers+1):\n",
    "    num=random.choice(numbers)\n",
    "#password+=num\n",
    "for i in range(1,n_symbols+1):\n",
    "    sym=random.choice(symbols)\n",
    "    password=password+char+num+sym\n",
    "print(password)"
   ]
  },
  {
   "cell_type": "code",
   "execution_count": null,
   "id": "4039257d",
   "metadata": {},
   "outputs": [],
   "source": []
  }
 ],
 "metadata": {
  "kernelspec": {
   "display_name": "Python 3 (ipykernel)",
   "language": "python",
   "name": "python3"
  },
  "language_info": {
   "codemirror_mode": {
    "name": "ipython",
    "version": 3
   },
   "file_extension": ".py",
   "mimetype": "text/x-python",
   "name": "python",
   "nbconvert_exporter": "python",
   "pygments_lexer": "ipython3",
   "version": "3.9.12"
  }
 },
 "nbformat": 4,
 "nbformat_minor": 5
}
